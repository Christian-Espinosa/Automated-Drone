{
 "cells": [
  {
   "cell_type": "code",
   "execution_count": 101,
   "metadata": {},
   "outputs": [],
   "source": [
    "#LIBRARIES\n",
    "\n",
    "# VREP API library\n",
    "import sim\n",
    "import sys\n",
    "\n",
    "# import numpy and \n",
    "import numpy as np\n",
    "import time"
   ]
  },
  {
   "cell_type": "code",
   "execution_count": 93,
   "metadata": {},
   "outputs": [],
   "source": [
    "# CONNECTION\n",
    "def conn():\n",
    "    #close all connections\n",
    "    sim.simxFinish(-1)\n",
    "    # connection with the API\n",
    "    clientID = -1\n",
    "    while clientID == -1:\n",
    "        print(\"Conectando...\")\n",
    "        clientID = sim.simxStart('127.0.0.1', 19999,True,True,2000,5)\n",
    "    print(\"Conectado al puerto 19999\")\n",
    "    return clientID\n",
    "    \n",
    "# INITIALIZE ROTORS TO 0\n",
    "def init_prop(clientID): \n",
    "    r,r1,r2,r3,r4 = sim.simxCallScriptFunction(clientID, \"Quadricopter\", sim.sim_scripttype_childscript,\"set_v\", [], [0,0,0,0], [] ,\"\", sim.simx_opmode_blocking)\n",
    "\n",
    "# MOVING THE DRONE AS AN OBJECT\n",
    "def move_q(pos):\n",
    "    err, qcopter = sim.simxGetObjectHandle(clientID, 'Quadricopter_target', sim.simx_opmode_blocking)\n",
    "    sim.simxSetObjectPosition(clientID, qcopter, -1, pos, sim.simx_opmode_oneshot)\n",
    "        \n",
    "# FUNCTION THAT SETS VELOCITIES TO EACH PROPELER\n",
    "def move_prop(clientID, vels):\n",
    "     r,r1,r2,r3,r4 = sim.simxCallScriptFunction(clientID, \"Quadricopter\", sim.sim_scripttype_childscript,\"set_v\", [], vels, [] ,\"\", sim.simx_opmode_blocking)\n"
   ]
  },
  {
   "cell_type": "code",
   "execution_count": 103,
   "metadata": {},
   "outputs": [
    {
     "name": "stdout",
     "output_type": "stream",
     "text": [
      "Conectando...\n",
      "Conectado al puerto 19999\n"
     ]
    }
   ],
   "source": [
    "# CONNECTING WITH THE API\n",
    "clientID = conn()\n",
    "\n",
    "init_prop(clientID)\n",
    "# SETTING DRONE'S STARTING POSITION\n",
    "points = [[0.6,0.61,0.61], [0.7,0.61,0.61], [0.8,0.61,0.61], [0.9,0.61,0.61], [0.95,0.61,0.61]]\n",
    "for point in points:\n",
    "    move_q(point)\n",
    "    time.sleep(2)"
   ]
  },
  {
   "cell_type": "code",
   "execution_count": null,
   "metadata": {},
   "outputs": [],
   "source": []
  },
  {
   "cell_type": "code",
   "execution_count": null,
   "metadata": {},
   "outputs": [],
   "source": []
  },
  {
   "cell_type": "code",
   "execution_count": null,
   "metadata": {},
   "outputs": [],
   "source": []
  }
 ],
 "metadata": {
  "kernelspec": {
   "display_name": "Python 3",
   "language": "python",
   "name": "python3"
  },
  "language_info": {
   "codemirror_mode": {
    "name": "ipython",
    "version": 3
   },
   "file_extension": ".py",
   "mimetype": "text/x-python",
   "name": "python",
   "nbconvert_exporter": "python",
   "pygments_lexer": "ipython3",
   "version": "3.8.5"
  }
 },
 "nbformat": 4,
 "nbformat_minor": 4
}
