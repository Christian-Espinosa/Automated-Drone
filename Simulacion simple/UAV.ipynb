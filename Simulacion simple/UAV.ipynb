{
 "cells": [
  {
   "cell_type": "code",
   "execution_count": 17,
   "metadata": {},
   "outputs": [],
   "source": [
    "#LIBRARIES\n",
    "\n",
    "# VREP API library\n",
    "import sim\n",
    "import sys\n",
    "\n",
    "# import numpy and \n",
    "import numpy as np\n",
    "import time\n",
    "\n"
   ]
  },
  {
   "cell_type": "code",
   "execution_count": 18,
   "metadata": {},
   "outputs": [],
   "source": [
    "def getSensorValues(sc,sl,sr):\n",
    "    _, _, dPC, _, _=sim.simxReadProximitySensor(clientID,sc, sim.simx_opmode_blocking)\n",
    "    _, _, dPL, _, _=sim.simxReadProximitySensor(clientID,sl, sim.simx_opmode_blocking)\n",
    "    _, _, dPR, _, _=sim.simxReadProximitySensor(clientID,sr, sim.simx_opmode_blocking)\n",
    "    return np.linalg.norm(dPC),np.linalg.norm(dPL),np.linalg.norm(dPR)\n",
    "\n",
    "def getSensorHandles():\n",
    "    err,Sensor_Cara=sim.simxGetObjectHandle(clientID,'Sensor_Cara',sim.simx_opmode_blocking)\n",
    "    err,Sensor_left=sim.simxGetObjectHandle(clientID,'Sensor_left',sim.simx_opmode_blocking)\n",
    "    err,Sensor_right=sim.simxGetObjectHandle(clientID,'Sensor_right',sim.simx_opmode_blocking)\n",
    "    return Sensor_Cara, Sensor_left, Sensor_right\n",
    "\n",
    "# CONNECTION   \n",
    "def conn():\n",
    "    #close all connections\n",
    "    sim.simxFinish(-1)\n",
    "    # connection with the API\n",
    "    clientID = -1\n",
    "    while clientID == -1:\n",
    "        print(\"Conectando...\")\n",
    "        clientID = sim.simxStart('127.0.0.1', 19999,True,True,2000,5)\n",
    "    print(\"Conectado al puerto 19999\")\n",
    "    return clientID\n",
    "    \n",
    "# INITIALIZE ROTORS TO 0\n",
    "def init_prop(clientID): \n",
    "    r,r1,r2,r3,r4 = sim.simxCallScriptFunction(clientID, \"Quadricopter\", sim.sim_scripttype_childscript,\"set_v\", [], [0,0,0,0], [] ,\"\", sim.simx_opmode_blocking)\n",
    "\n",
    "# MOVING THE DRONE AS AN OBJECT\n",
    "def move_q(pos):\n",
    "    err, qcopter = sim.simxGetObjectHandle(clientID, 'Quadricopter_target', sim.simx_opmode_blocking)\n",
    "    sim.simxSetObjectPosition(clientID, qcopter, -1, pos, sim.simx_opmode_oneshot)\n",
    "\n",
    "# ROTATE THE DRONE AS AN OBJECT\n",
    "   \n",
    "\n",
    "# FUNCTION THAT SETS VELOCITIES TO EACH PROPELER\n",
    "def move_prop(clientID, vels):\n",
    "     r,r1,r2,r3,r4 = sim.simxCallScriptFunction(clientID, \"Quadricopter\", sim.sim_scripttype_childscript,\"set_v\", [], vels, [] ,\"\", sim.simx_opmode_blocking)\n"
   ]
  },
  {
   "cell_type": "code",
   "execution_count": null,
   "metadata": {},
   "outputs": [],
   "source": []
  },
  {
   "cell_type": "code",
   "execution_count": 51,
   "metadata": {},
   "outputs": [
    {
     "name": "stdout",
     "output_type": "stream",
     "text": [
      "Conectando...\n",
      "Conectado al puerto 19999\n"
     ]
    },
    {
     "ename": "KeyboardInterrupt",
     "evalue": "",
     "output_type": "error",
     "traceback": [
      "\u001b[1;31m---------------------------------------------------------------------------\u001b[0m",
      "\u001b[1;31mKeyboardInterrupt\u001b[0m                         Traceback (most recent call last)",
      "\u001b[1;32m<ipython-input-51-03df7721aa70>\u001b[0m in \u001b[0;36m<module>\u001b[1;34m\u001b[0m\n\u001b[0;32m     19\u001b[0m     \u001b[0msensor_val_cara\u001b[0m \u001b[1;33m=\u001b[0m \u001b[0mnp\u001b[0m\u001b[1;33m.\u001b[0m\u001b[0mlinalg\u001b[0m\u001b[1;33m.\u001b[0m\u001b[0mnorm\u001b[0m\u001b[1;33m(\u001b[0m\u001b[0mdetectedPoint_cara\u001b[0m\u001b[1;33m)\u001b[0m\u001b[1;33m\u001b[0m\u001b[1;33m\u001b[0m\u001b[0m\n\u001b[0;32m     20\u001b[0m \u001b[1;33m\u001b[0m\u001b[0m\n\u001b[1;32m---> 21\u001b[1;33m     \u001b[0merrorCode\u001b[0m\u001b[1;33m,\u001b[0m \u001b[0mdetectionState\u001b[0m\u001b[1;33m,\u001b[0m \u001b[0mdetectedPoint_left\u001b[0m\u001b[1;33m,\u001b[0m \u001b[0mdetectedObjectHandle\u001b[0m\u001b[1;33m,\u001b[0m \u001b[0mdetectedSurfaceNormalVector\u001b[0m\u001b[1;33m=\u001b[0m\u001b[0msim\u001b[0m\u001b[1;33m.\u001b[0m\u001b[0msimxReadProximitySensor\u001b[0m\u001b[1;33m(\u001b[0m\u001b[0mclientID\u001b[0m\u001b[1;33m,\u001b[0m\u001b[0mSensor_left\u001b[0m\u001b[1;33m,\u001b[0m \u001b[0msim\u001b[0m\u001b[1;33m.\u001b[0m\u001b[0msimx_opmode_blocking\u001b[0m\u001b[1;33m)\u001b[0m\u001b[1;33m\u001b[0m\u001b[1;33m\u001b[0m\u001b[0m\n\u001b[0m\u001b[0;32m     22\u001b[0m     \u001b[0msensor_val_left\u001b[0m \u001b[1;33m=\u001b[0m \u001b[0mnp\u001b[0m\u001b[1;33m.\u001b[0m\u001b[0mlinalg\u001b[0m\u001b[1;33m.\u001b[0m\u001b[0mnorm\u001b[0m\u001b[1;33m(\u001b[0m\u001b[0mdetectedPoint_left\u001b[0m\u001b[1;33m)\u001b[0m\u001b[1;33m\u001b[0m\u001b[1;33m\u001b[0m\u001b[0m\n\u001b[0;32m     23\u001b[0m \u001b[1;33m\u001b[0m\u001b[0m\n",
      "\u001b[1;32m~\\Desktop\\rlp jupter\\DRONE\\Code\\sim.py\u001b[0m in \u001b[0;36msimxReadProximitySensor\u001b[1;34m(clientID, sensorHandle, operationMode)\u001b[0m\n\u001b[0;32m    349\u001b[0m     \u001b[0mdetectedPoint\u001b[0m  \u001b[1;33m=\u001b[0m \u001b[1;33m(\u001b[0m\u001b[0mct\u001b[0m\u001b[1;33m.\u001b[0m\u001b[0mc_float\u001b[0m\u001b[1;33m*\u001b[0m\u001b[1;36m3\u001b[0m\u001b[1;33m)\u001b[0m\u001b[1;33m(\u001b[0m\u001b[1;33m)\u001b[0m\u001b[1;33m\u001b[0m\u001b[1;33m\u001b[0m\u001b[0m\n\u001b[0;32m    350\u001b[0m     \u001b[0mdetectedSurfaceNormalVector\u001b[0m \u001b[1;33m=\u001b[0m \u001b[1;33m(\u001b[0m\u001b[0mct\u001b[0m\u001b[1;33m.\u001b[0m\u001b[0mc_float\u001b[0m\u001b[1;33m*\u001b[0m\u001b[1;36m3\u001b[0m\u001b[1;33m)\u001b[0m\u001b[1;33m(\u001b[0m\u001b[1;33m)\u001b[0m\u001b[1;33m\u001b[0m\u001b[1;33m\u001b[0m\u001b[0m\n\u001b[1;32m--> 351\u001b[1;33m     \u001b[0mret\u001b[0m \u001b[1;33m=\u001b[0m \u001b[0mc_ReadProximitySensor\u001b[0m\u001b[1;33m(\u001b[0m\u001b[0mclientID\u001b[0m\u001b[1;33m,\u001b[0m \u001b[0msensorHandle\u001b[0m\u001b[1;33m,\u001b[0m \u001b[0mct\u001b[0m\u001b[1;33m.\u001b[0m\u001b[0mbyref\u001b[0m\u001b[1;33m(\u001b[0m\u001b[0mdetectionState\u001b[0m\u001b[1;33m)\u001b[0m\u001b[1;33m,\u001b[0m \u001b[0mdetectedPoint\u001b[0m\u001b[1;33m,\u001b[0m \u001b[0mct\u001b[0m\u001b[1;33m.\u001b[0m\u001b[0mbyref\u001b[0m\u001b[1;33m(\u001b[0m\u001b[0mdetectedObjectHandle\u001b[0m\u001b[1;33m)\u001b[0m\u001b[1;33m,\u001b[0m \u001b[0mdetectedSurfaceNormalVector\u001b[0m\u001b[1;33m,\u001b[0m \u001b[0moperationMode\u001b[0m\u001b[1;33m)\u001b[0m\u001b[1;33m\u001b[0m\u001b[1;33m\u001b[0m\u001b[0m\n\u001b[0m\u001b[0;32m    352\u001b[0m     \u001b[0marr1\u001b[0m \u001b[1;33m=\u001b[0m \u001b[1;33m[\u001b[0m\u001b[1;33m]\u001b[0m\u001b[1;33m\u001b[0m\u001b[1;33m\u001b[0m\u001b[0m\n\u001b[0;32m    353\u001b[0m     \u001b[1;32mfor\u001b[0m \u001b[0mi\u001b[0m \u001b[1;32min\u001b[0m \u001b[0mrange\u001b[0m\u001b[1;33m(\u001b[0m\u001b[1;36m3\u001b[0m\u001b[1;33m)\u001b[0m\u001b[1;33m:\u001b[0m\u001b[1;33m\u001b[0m\u001b[1;33m\u001b[0m\u001b[0m\n",
      "\u001b[1;31mKeyboardInterrupt\u001b[0m: "
     ]
    }
   ],
   "source": [
    "# CONNECTING WITH THE API\n",
    "clientID = conn()\n",
    "init_prop(clientID)\n",
    "\n",
    "err,Sensor_Cara=sim.simxGetObjectHandle(clientID,'Sensor_Cara',sim.simx_opmode_blocking)\n",
    "err,Sensor_left=sim.simxGetObjectHandle(clientID,'Sensor_left',sim.simx_opmode_blocking)\n",
    "err,Sensor_Rigth=sim.simxGetObjectHandle(clientID,'Sensor_Rigth',sim.simx_opmode_blocking)\n",
    "\n",
    "# SETTING DRONE'S STARTING POSITION\n",
    "# points = [[0.6,0.61,0.61], [0.7,0.61,0.61], [0.8,0.61,0.61], [0.9,0.61,0.61], [0.95,0.61,0.61]]\n",
    "\n",
    "x = -1.8\n",
    "y= 0.0\n",
    "z=0.5\n",
    "move_q([x,y,z])    \n",
    "\n",
    "for x_for in range(1000) :\n",
    "    errorCode, detectionState, detectedPoint_cara, detectedObjectHandle, detectedSurfaceNormalVector=sim.simxReadProximitySensor(clientID,Sensor_Cara, sim.simx_opmode_blocking)\n",
    "    sensor_val_cara = np.linalg.norm(detectedPoint_cara)\n",
    "    \n",
    "    errorCode, detectionState, detectedPoint_left, detectedObjectHandle, detectedSurfaceNormalVector=sim.simxReadProximitySensor(clientID,Sensor_left, sim.simx_opmode_blocking)\n",
    "    sensor_val_left = np.linalg.norm(detectedPoint_left)\n",
    "    \n",
    "    errorCode, detectionState, detectedPoint_rigth, detectedObjectHandle, detectedSurfaceNormalVector=sim.simxReadProximitySensor(clientID,Sensor_Rigth, sim.simx_opmode_blocking)\n",
    "    sensor_val_rigth = np.linalg.norm(detectedPoint_rigth)\n",
    "    \n",
    "    if (sensor_val_cara < 0.8 and  sensor_val_cara > 0.1 ):\n",
    "        \n",
    "        if (sensor_val_left < 0.8 and  sensor_val_left > 0.1 ):\n",
    "            y=y-(x_for/1000)\n",
    "            #z=z+(x_for/1000)\n",
    "            move_q([x,y,z])\n",
    "            \n",
    "        else:\n",
    "            if (sensor_val_rigth < 0.8 and  sensor_val_rigth > 0.1 ):\n",
    "                z=z+(x_for/1000)\n",
    "                move_q([x,y,z])\n",
    "            else:\n",
    "                y=y+(x_for/1000)\n",
    "                move_q([x,y,z]) \n",
    "        \n",
    "    else:\n",
    "        x = x +(x_for/1000)\n",
    "        move_q([x,y,z])"
   ]
  },
  {
   "cell_type": "code",
   "execution_count": 46,
   "metadata": {},
   "outputs": [
    {
     "name": "stdout",
     "output_type": "stream",
     "text": [
      "Conectando...\n",
      "Conectado al puerto 19999\n",
      "2.975583860957597e-38 3.0123180594207527e-38 0.0\n",
      "3.122520654810224e-38 2.975583860957597e-38 0.0\n",
      "3.195989051736543e-38 3.2878245478944466e-38 0.0\n",
      "3.0123180594207527e-38 3.379660044052355e-38 0.0\n",
      "0.5048951217202908 1.1112670968876246e-38 0.0\n",
      "0.48572163753509995 7.714757611070419e-39 0.0\n",
      "0.48572061789451093 1.010248051114739e-38 0.0\n",
      "8.541277076479729e-39 0.526305969099683 0.0\n",
      "7.714757611070419e-39 0.5263074734794635 0.0\n",
      "7.25558013028871e-39 0.5263077891637465 0.0\n",
      "7.714757611070419e-39 9.275961045734335e-39 0.0\n",
      "6.612731657196242e-39 7.622922114913998e-39 0.0\n",
      "9.91880951883325e-39 9.91880951883325e-39 0.0\n",
      "1.0837164480404572e-38 7.714757611070419e-39 0.0\n",
      "8.724948068793233e-39 9.275961045734335e-39 0.0\n",
      "7.071909137976326e-39 9.275961045734335e-39 0.0\n",
      "9.275961045734335e-39 7.622922114913998e-39 0.0\n",
      "0.6938451517090545 6.520896161040392e-39 0.0\n",
      "0.5920336008966153 8.724948068793233e-39 0.0\n",
      "7.622922114913998e-39 0.43922688927248926 0.0\n",
      "1.1112670968876246e-38 0.4601166161042886 0.0\n",
      "5.969883184106675e-39 7.25558013028871e-39 0.0\n",
      "7.071909137976326e-39 1.1663683945819919e-38 0.0\n",
      "8.541277076479729e-39 9.367796541891264e-39 0.0\n",
      "1.0837164480404572e-38 1.1020835472719008e-38 0.0\n",
      "1.1020835472719008e-38 5.878047687951315e-39 0.0\n",
      "6.796402649508116e-39 9.367796541891264e-39 0.0\n",
      "8.173935091853053e-39 1.0928999976561784e-38 0.0\n",
      "6.796402649508116e-39 7.622922114913998e-39 0.0\n",
      "1.0928999976561784e-38 1.0928999976561784e-38 0.0\n",
      "8.173935091853053e-39 7.622922114913998e-39 0.0\n",
      "1.1112670968876246e-38 1.0928999976561784e-38 0.0\n",
      "6.796402649508116e-39 6.612731657196242e-39 0.0\n",
      "7.806593107226877e-39 5.969883184106675e-39 0.0\n",
      "1.1663683945819919e-38 1.010248051114739e-38 0.0\n",
      "1.1388177457348031e-38 1.010248051114739e-38 0.0\n"
     ]
    },
    {
     "ename": "KeyboardInterrupt",
     "evalue": "",
     "output_type": "error",
     "traceback": [
      "\u001b[1;31m---------------------------------------------------------------------------\u001b[0m",
      "\u001b[1;31mKeyboardInterrupt\u001b[0m                         Traceback (most recent call last)",
      "\u001b[1;32m<ipython-input-46-c47af5e65546>\u001b[0m in \u001b[0;36m<module>\u001b[1;34m\u001b[0m\n\u001b[0;32m     18\u001b[0m \u001b[1;33m\u001b[0m\u001b[0m\n\u001b[0;32m     19\u001b[0m     \u001b[0mprint\u001b[0m\u001b[1;33m(\u001b[0m\u001b[0msensor_val_cara\u001b[0m\u001b[1;33m,\u001b[0m\u001b[0msensor_val_left\u001b[0m\u001b[1;33m,\u001b[0m\u001b[0msensor_val_rigth\u001b[0m\u001b[1;33m)\u001b[0m\u001b[1;33m\u001b[0m\u001b[1;33m\u001b[0m\u001b[0m\n\u001b[1;32m---> 20\u001b[1;33m     \u001b[0mtime\u001b[0m\u001b[1;33m.\u001b[0m\u001b[0msleep\u001b[0m\u001b[1;33m(\u001b[0m\u001b[1;36m2\u001b[0m\u001b[1;33m)\u001b[0m\u001b[1;33m\u001b[0m\u001b[1;33m\u001b[0m\u001b[0m\n\u001b[0m",
      "\u001b[1;31mKeyboardInterrupt\u001b[0m: "
     ]
    }
   ],
   "source": [
    "# CONNECTING WITH THE API\n",
    "clientID = conn()\n",
    "init_prop(clientID)\n",
    "\n",
    "err,Sensor_Cara=sim.simxGetObjectHandle(clientID,'Sensor_Cara',sim.simx_opmode_blocking)\n",
    "err,Sensor_left=sim.simxGetObjectHandle(clientID,'Sensor_left',sim.simx_opmode_blocking)\n",
    "err,Sensor_Rigth=sim.simxGetObjectHandle(clientID,'Sensor_Rigth',sim.simx_opmode_blocking)\n",
    "\n",
    "for x_for in range(1000) :\n",
    "    errorCode, detectionState, detectedPoint_cara, detectedObjectHandle, detectedSurfaceNormalVector=sim.simxReadProximitySensor(clientID,Sensor_Cara, sim.simx_opmode_blocking)\n",
    "    sensor_val_cara = np.linalg.norm(detectedPoint_cara)\n",
    "    \n",
    "    errorCode, detectionState, detectedPoint_left, detectedObjectHandle, detectedSurfaceNormalVector=sim.simxReadProximitySensor(clientID,Sensor_left, sim.simx_opmode_blocking)\n",
    "    sensor_val_left = np.linalg.norm(detectedPoint_left)\n",
    "    \n",
    "    errorCode, detectionState, detectedPoint_rigth, detectedObjectHandle, detectedSurfaceNormalVector=sim.simxReadProximitySensor(clientID,Sensor_Rigth, sim.simx_opmode_blocking)\n",
    "    sensor_val_rigth = np.linalg.norm(detectedPoint_rigth)\n",
    "    \n",
    "    print(sensor_val_cara,sensor_val_left,sensor_val_rigth)\n",
    "    time.sleep(2)"
   ]
  }
 ],
 "metadata": {
  "kernelspec": {
   "display_name": "Python 3",
   "language": "python",
   "name": "python3"
  },
  "language_info": {
   "codemirror_mode": {
    "name": "ipython",
    "version": 3
   },
   "file_extension": ".py",
   "mimetype": "text/x-python",
   "name": "python",
   "nbconvert_exporter": "python",
   "pygments_lexer": "ipython3",
   "version": "3.7.4"
  }
 },
 "nbformat": 4,
 "nbformat_minor": 4
}
